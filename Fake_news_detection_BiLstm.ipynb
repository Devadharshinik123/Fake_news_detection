{
  "nbformat": 4,
  "nbformat_minor": 0,
  "metadata": {
    "colab": {
      "provenance": [],
      "gpuType": "T4"
    },
    "kernelspec": {
      "name": "python3",
      "display_name": "Python 3"
    },
    "language_info": {
      "name": "python"
    },
    "accelerator": "GPU"
  },
  "cells": [
    {
      "cell_type": "code",
      "source": [
        "!pip install tensorflow"
      ],
      "metadata": {
        "id": "SAQPRzdV8yfO",
        "colab": {
          "base_uri": "https://localhost:8080/"
        },
        "collapsed": true,
        "outputId": "836b27ad-cc7e-44ab-cf7a-e2bea5419bdc"
      },
      "execution_count": 2,
      "outputs": [
        {
          "output_type": "stream",
          "name": "stdout",
          "text": [
            "Requirement already satisfied: tensorflow in /usr/local/lib/python3.11/dist-packages (2.18.0)\n",
            "Requirement already satisfied: absl-py>=1.0.0 in /usr/local/lib/python3.11/dist-packages (from tensorflow) (1.4.0)\n",
            "Requirement already satisfied: astunparse>=1.6.0 in /usr/local/lib/python3.11/dist-packages (from tensorflow) (1.6.3)\n",
            "Requirement already satisfied: flatbuffers>=24.3.25 in /usr/local/lib/python3.11/dist-packages (from tensorflow) (25.2.10)\n",
            "Requirement already satisfied: gast!=0.5.0,!=0.5.1,!=0.5.2,>=0.2.1 in /usr/local/lib/python3.11/dist-packages (from tensorflow) (0.6.0)\n",
            "Requirement already satisfied: google-pasta>=0.1.1 in /usr/local/lib/python3.11/dist-packages (from tensorflow) (0.2.0)\n",
            "Requirement already satisfied: libclang>=13.0.0 in /usr/local/lib/python3.11/dist-packages (from tensorflow) (18.1.1)\n",
            "Requirement already satisfied: opt-einsum>=2.3.2 in /usr/local/lib/python3.11/dist-packages (from tensorflow) (3.4.0)\n",
            "Requirement already satisfied: packaging in /usr/local/lib/python3.11/dist-packages (from tensorflow) (24.2)\n",
            "Requirement already satisfied: protobuf!=4.21.0,!=4.21.1,!=4.21.2,!=4.21.3,!=4.21.4,!=4.21.5,<6.0.0dev,>=3.20.3 in /usr/local/lib/python3.11/dist-packages (from tensorflow) (5.29.5)\n",
            "Requirement already satisfied: requests<3,>=2.21.0 in /usr/local/lib/python3.11/dist-packages (from tensorflow) (2.32.3)\n",
            "Requirement already satisfied: setuptools in /usr/local/lib/python3.11/dist-packages (from tensorflow) (75.2.0)\n",
            "Requirement already satisfied: six>=1.12.0 in /usr/local/lib/python3.11/dist-packages (from tensorflow) (1.17.0)\n",
            "Requirement already satisfied: termcolor>=1.1.0 in /usr/local/lib/python3.11/dist-packages (from tensorflow) (3.1.0)\n",
            "Requirement already satisfied: typing-extensions>=3.6.6 in /usr/local/lib/python3.11/dist-packages (from tensorflow) (4.14.1)\n",
            "Requirement already satisfied: wrapt>=1.11.0 in /usr/local/lib/python3.11/dist-packages (from tensorflow) (1.17.2)\n",
            "Requirement already satisfied: grpcio<2.0,>=1.24.3 in /usr/local/lib/python3.11/dist-packages (from tensorflow) (1.73.1)\n",
            "Requirement already satisfied: tensorboard<2.19,>=2.18 in /usr/local/lib/python3.11/dist-packages (from tensorflow) (2.18.0)\n",
            "Requirement already satisfied: keras>=3.5.0 in /usr/local/lib/python3.11/dist-packages (from tensorflow) (3.8.0)\n",
            "Requirement already satisfied: numpy<2.1.0,>=1.26.0 in /usr/local/lib/python3.11/dist-packages (from tensorflow) (2.0.2)\n",
            "Requirement already satisfied: h5py>=3.11.0 in /usr/local/lib/python3.11/dist-packages (from tensorflow) (3.14.0)\n",
            "Requirement already satisfied: ml-dtypes<0.5.0,>=0.4.0 in /usr/local/lib/python3.11/dist-packages (from tensorflow) (0.4.1)\n",
            "Requirement already satisfied: tensorflow-io-gcs-filesystem>=0.23.1 in /usr/local/lib/python3.11/dist-packages (from tensorflow) (0.37.1)\n",
            "Requirement already satisfied: wheel<1.0,>=0.23.0 in /usr/local/lib/python3.11/dist-packages (from astunparse>=1.6.0->tensorflow) (0.45.1)\n",
            "Requirement already satisfied: rich in /usr/local/lib/python3.11/dist-packages (from keras>=3.5.0->tensorflow) (13.9.4)\n",
            "Requirement already satisfied: namex in /usr/local/lib/python3.11/dist-packages (from keras>=3.5.0->tensorflow) (0.1.0)\n",
            "Requirement already satisfied: optree in /usr/local/lib/python3.11/dist-packages (from keras>=3.5.0->tensorflow) (0.16.0)\n",
            "Requirement already satisfied: charset-normalizer<4,>=2 in /usr/local/lib/python3.11/dist-packages (from requests<3,>=2.21.0->tensorflow) (3.4.2)\n",
            "Requirement already satisfied: idna<4,>=2.5 in /usr/local/lib/python3.11/dist-packages (from requests<3,>=2.21.0->tensorflow) (3.10)\n",
            "Requirement already satisfied: urllib3<3,>=1.21.1 in /usr/local/lib/python3.11/dist-packages (from requests<3,>=2.21.0->tensorflow) (2.4.0)\n",
            "Requirement already satisfied: certifi>=2017.4.17 in /usr/local/lib/python3.11/dist-packages (from requests<3,>=2.21.0->tensorflow) (2025.7.9)\n",
            "Requirement already satisfied: markdown>=2.6.8 in /usr/local/lib/python3.11/dist-packages (from tensorboard<2.19,>=2.18->tensorflow) (3.8.2)\n",
            "Requirement already satisfied: tensorboard-data-server<0.8.0,>=0.7.0 in /usr/local/lib/python3.11/dist-packages (from tensorboard<2.19,>=2.18->tensorflow) (0.7.2)\n",
            "Requirement already satisfied: werkzeug>=1.0.1 in /usr/local/lib/python3.11/dist-packages (from tensorboard<2.19,>=2.18->tensorflow) (3.1.3)\n",
            "Requirement already satisfied: MarkupSafe>=2.1.1 in /usr/local/lib/python3.11/dist-packages (from werkzeug>=1.0.1->tensorboard<2.19,>=2.18->tensorflow) (3.0.2)\n",
            "Requirement already satisfied: markdown-it-py>=2.2.0 in /usr/local/lib/python3.11/dist-packages (from rich->keras>=3.5.0->tensorflow) (3.0.0)\n",
            "Requirement already satisfied: pygments<3.0.0,>=2.13.0 in /usr/local/lib/python3.11/dist-packages (from rich->keras>=3.5.0->tensorflow) (2.19.2)\n",
            "Requirement already satisfied: mdurl~=0.1 in /usr/local/lib/python3.11/dist-packages (from markdown-it-py>=2.2.0->rich->keras>=3.5.0->tensorflow) (0.1.2)\n"
          ]
        }
      ]
    },
    {
      "cell_type": "code",
      "source": [
        "import tensorflow as tf"
      ],
      "metadata": {
        "id": "dW99ItL08shS"
      },
      "execution_count": 3,
      "outputs": []
    },
    {
      "cell_type": "code",
      "execution_count": 4,
      "metadata": {
        "id": "lp5rCNTACW1Q"
      },
      "outputs": [],
      "source": [
        "import pandas as pd\n",
        "from tensorflow.keras.preprocessing.text import one_hot\n",
        "from tensorflow.keras.layers import Embedding,Bidirectional,LSTM,Dense,Dropout\n",
        "from tensorflow.keras.preprocessing.sequence import pad_sequences\n",
        "from tensorflow.keras.models import Sequential"
      ]
    },
    {
      "cell_type": "code",
      "source": [
        "df=pd.read_csv(\"/content/evaluation.csv\",sep=';',engine='python',on_bad_lines='skip')"
      ],
      "metadata": {
        "id": "5HbgI4WjCeH4"
      },
      "execution_count": 10,
      "outputs": []
    },
    {
      "cell_type": "code",
      "source": [
        "df.isnull().sum()"
      ],
      "metadata": {
        "id": "UijGtMBtCxrT",
        "colab": {
          "base_uri": "https://localhost:8080/",
          "height": 209
        },
        "outputId": "79aa3402-62d6-47d5-f74c-e5cf10adaba4"
      },
      "execution_count": 11,
      "outputs": [
        {
          "output_type": "execute_result",
          "data": {
            "text/plain": [
              "Unnamed: 0    0\n",
              "title         0\n",
              "text          0\n",
              "label         1\n",
              "dtype: int64"
            ],
            "text/html": [
              "<div>\n",
              "<style scoped>\n",
              "    .dataframe tbody tr th:only-of-type {\n",
              "        vertical-align: middle;\n",
              "    }\n",
              "\n",
              "    .dataframe tbody tr th {\n",
              "        vertical-align: top;\n",
              "    }\n",
              "\n",
              "    .dataframe thead th {\n",
              "        text-align: right;\n",
              "    }\n",
              "</style>\n",
              "<table border=\"1\" class=\"dataframe\">\n",
              "  <thead>\n",
              "    <tr style=\"text-align: right;\">\n",
              "      <th></th>\n",
              "      <th>0</th>\n",
              "    </tr>\n",
              "  </thead>\n",
              "  <tbody>\n",
              "    <tr>\n",
              "      <th>Unnamed: 0</th>\n",
              "      <td>0</td>\n",
              "    </tr>\n",
              "    <tr>\n",
              "      <th>title</th>\n",
              "      <td>0</td>\n",
              "    </tr>\n",
              "    <tr>\n",
              "      <th>text</th>\n",
              "      <td>0</td>\n",
              "    </tr>\n",
              "    <tr>\n",
              "      <th>label</th>\n",
              "      <td>1</td>\n",
              "    </tr>\n",
              "  </tbody>\n",
              "</table>\n",
              "</div><br><label><b>dtype:</b> int64</label>"
            ]
          },
          "metadata": {},
          "execution_count": 11
        }
      ]
    },
    {
      "cell_type": "code",
      "source": [
        "df=df.dropna()"
      ],
      "metadata": {
        "id": "pTdy1hsl8QIv"
      },
      "execution_count": 12,
      "outputs": []
    },
    {
      "cell_type": "code",
      "source": [
        "messages=df.copy()\n",
        "y=messages['label']"
      ],
      "metadata": {
        "id": "o8mPycFo8Xi3"
      },
      "execution_count": 13,
      "outputs": []
    },
    {
      "cell_type": "code",
      "source": [
        "df.head()"
      ],
      "metadata": {
        "colab": {
          "base_uri": "https://localhost:8080/",
          "height": 206
        },
        "id": "tDIK17WtEpx5",
        "outputId": "bf53707b-4be4-4b67-dd6b-acfab2ffa4f6"
      },
      "execution_count": 14,
      "outputs": [
        {
          "output_type": "execute_result",
          "data": {
            "text/plain": [
              "   Unnamed: 0                                              title  \\\n",
              "0           0  Sanders back in U.S. Senate, blasts 'coloniali...   \n",
              "1           1  Kremlin: Syria peoples' congress being 'active...   \n",
              "2           2   Oregon Cop Convicted Of Shattering Biker’s Co...   \n",
              "3           3   Twitter Erupts With Glee Over #CruzSexScandal...   \n",
              "4           4  MUST WATCH VIDEO: Obama Tries To Trash Trump B...   \n",
              "\n",
              "                                                text  label  \n",
              "0  WASHINGTON (Reuters) - Democratic U.S. preside...    1.0  \n",
              "1  MOSCOW (Reuters) - A proposal to convene a con...    1.0  \n",
              "2  In a baffling fit of rage, an Oregon State Pol...    0.0  \n",
              "3  The last thing any politician running for the ...    0.0  \n",
              "4  This is too good to miss! Mr. Teleprompter did...    0.0  "
            ],
            "text/html": [
              "\n",
              "  <div id=\"df-90dda5ac-9af2-448d-b01e-7d8b3ef6513b\" class=\"colab-df-container\">\n",
              "    <div>\n",
              "<style scoped>\n",
              "    .dataframe tbody tr th:only-of-type {\n",
              "        vertical-align: middle;\n",
              "    }\n",
              "\n",
              "    .dataframe tbody tr th {\n",
              "        vertical-align: top;\n",
              "    }\n",
              "\n",
              "    .dataframe thead th {\n",
              "        text-align: right;\n",
              "    }\n",
              "</style>\n",
              "<table border=\"1\" class=\"dataframe\">\n",
              "  <thead>\n",
              "    <tr style=\"text-align: right;\">\n",
              "      <th></th>\n",
              "      <th>Unnamed: 0</th>\n",
              "      <th>title</th>\n",
              "      <th>text</th>\n",
              "      <th>label</th>\n",
              "    </tr>\n",
              "  </thead>\n",
              "  <tbody>\n",
              "    <tr>\n",
              "      <th>0</th>\n",
              "      <td>0</td>\n",
              "      <td>Sanders back in U.S. Senate, blasts 'coloniali...</td>\n",
              "      <td>WASHINGTON (Reuters) - Democratic U.S. preside...</td>\n",
              "      <td>1.0</td>\n",
              "    </tr>\n",
              "    <tr>\n",
              "      <th>1</th>\n",
              "      <td>1</td>\n",
              "      <td>Kremlin: Syria peoples' congress being 'active...</td>\n",
              "      <td>MOSCOW (Reuters) - A proposal to convene a con...</td>\n",
              "      <td>1.0</td>\n",
              "    </tr>\n",
              "    <tr>\n",
              "      <th>2</th>\n",
              "      <td>2</td>\n",
              "      <td>Oregon Cop Convicted Of Shattering Biker’s Co...</td>\n",
              "      <td>In a baffling fit of rage, an Oregon State Pol...</td>\n",
              "      <td>0.0</td>\n",
              "    </tr>\n",
              "    <tr>\n",
              "      <th>3</th>\n",
              "      <td>3</td>\n",
              "      <td>Twitter Erupts With Glee Over #CruzSexScandal...</td>\n",
              "      <td>The last thing any politician running for the ...</td>\n",
              "      <td>0.0</td>\n",
              "    </tr>\n",
              "    <tr>\n",
              "      <th>4</th>\n",
              "      <td>4</td>\n",
              "      <td>MUST WATCH VIDEO: Obama Tries To Trash Trump B...</td>\n",
              "      <td>This is too good to miss! Mr. Teleprompter did...</td>\n",
              "      <td>0.0</td>\n",
              "    </tr>\n",
              "  </tbody>\n",
              "</table>\n",
              "</div>\n",
              "    <div class=\"colab-df-buttons\">\n",
              "\n",
              "  <div class=\"colab-df-container\">\n",
              "    <button class=\"colab-df-convert\" onclick=\"convertToInteractive('df-90dda5ac-9af2-448d-b01e-7d8b3ef6513b')\"\n",
              "            title=\"Convert this dataframe to an interactive table.\"\n",
              "            style=\"display:none;\">\n",
              "\n",
              "  <svg xmlns=\"http://www.w3.org/2000/svg\" height=\"24px\" viewBox=\"0 -960 960 960\">\n",
              "    <path d=\"M120-120v-720h720v720H120Zm60-500h600v-160H180v160Zm220 220h160v-160H400v160Zm0 220h160v-160H400v160ZM180-400h160v-160H180v160Zm440 0h160v-160H620v160ZM180-180h160v-160H180v160Zm440 0h160v-160H620v160Z\"/>\n",
              "  </svg>\n",
              "    </button>\n",
              "\n",
              "  <style>\n",
              "    .colab-df-container {\n",
              "      display:flex;\n",
              "      gap: 12px;\n",
              "    }\n",
              "\n",
              "    .colab-df-convert {\n",
              "      background-color: #E8F0FE;\n",
              "      border: none;\n",
              "      border-radius: 50%;\n",
              "      cursor: pointer;\n",
              "      display: none;\n",
              "      fill: #1967D2;\n",
              "      height: 32px;\n",
              "      padding: 0 0 0 0;\n",
              "      width: 32px;\n",
              "    }\n",
              "\n",
              "    .colab-df-convert:hover {\n",
              "      background-color: #E2EBFA;\n",
              "      box-shadow: 0px 1px 2px rgba(60, 64, 67, 0.3), 0px 1px 3px 1px rgba(60, 64, 67, 0.15);\n",
              "      fill: #174EA6;\n",
              "    }\n",
              "\n",
              "    .colab-df-buttons div {\n",
              "      margin-bottom: 4px;\n",
              "    }\n",
              "\n",
              "    [theme=dark] .colab-df-convert {\n",
              "      background-color: #3B4455;\n",
              "      fill: #D2E3FC;\n",
              "    }\n",
              "\n",
              "    [theme=dark] .colab-df-convert:hover {\n",
              "      background-color: #434B5C;\n",
              "      box-shadow: 0px 1px 3px 1px rgba(0, 0, 0, 0.15);\n",
              "      filter: drop-shadow(0px 1px 2px rgba(0, 0, 0, 0.3));\n",
              "      fill: #FFFFFF;\n",
              "    }\n",
              "  </style>\n",
              "\n",
              "    <script>\n",
              "      const buttonEl =\n",
              "        document.querySelector('#df-90dda5ac-9af2-448d-b01e-7d8b3ef6513b button.colab-df-convert');\n",
              "      buttonEl.style.display =\n",
              "        google.colab.kernel.accessAllowed ? 'block' : 'none';\n",
              "\n",
              "      async function convertToInteractive(key) {\n",
              "        const element = document.querySelector('#df-90dda5ac-9af2-448d-b01e-7d8b3ef6513b');\n",
              "        const dataTable =\n",
              "          await google.colab.kernel.invokeFunction('convertToInteractive',\n",
              "                                                    [key], {});\n",
              "        if (!dataTable) return;\n",
              "\n",
              "        const docLinkHtml = 'Like what you see? Visit the ' +\n",
              "          '<a target=\"_blank\" href=https://colab.research.google.com/notebooks/data_table.ipynb>data table notebook</a>'\n",
              "          + ' to learn more about interactive tables.';\n",
              "        element.innerHTML = '';\n",
              "        dataTable['output_type'] = 'display_data';\n",
              "        await google.colab.output.renderOutput(dataTable, element);\n",
              "        const docLink = document.createElement('div');\n",
              "        docLink.innerHTML = docLinkHtml;\n",
              "        element.appendChild(docLink);\n",
              "      }\n",
              "    </script>\n",
              "  </div>\n",
              "\n",
              "\n",
              "    <div id=\"df-b56b0d00-8e63-4c7b-8afc-b2b179ebad2e\">\n",
              "      <button class=\"colab-df-quickchart\" onclick=\"quickchart('df-b56b0d00-8e63-4c7b-8afc-b2b179ebad2e')\"\n",
              "                title=\"Suggest charts\"\n",
              "                style=\"display:none;\">\n",
              "\n",
              "<svg xmlns=\"http://www.w3.org/2000/svg\" height=\"24px\"viewBox=\"0 0 24 24\"\n",
              "     width=\"24px\">\n",
              "    <g>\n",
              "        <path d=\"M19 3H5c-1.1 0-2 .9-2 2v14c0 1.1.9 2 2 2h14c1.1 0 2-.9 2-2V5c0-1.1-.9-2-2-2zM9 17H7v-7h2v7zm4 0h-2V7h2v10zm4 0h-2v-4h2v4z\"/>\n",
              "    </g>\n",
              "</svg>\n",
              "      </button>\n",
              "\n",
              "<style>\n",
              "  .colab-df-quickchart {\n",
              "      --bg-color: #E8F0FE;\n",
              "      --fill-color: #1967D2;\n",
              "      --hover-bg-color: #E2EBFA;\n",
              "      --hover-fill-color: #174EA6;\n",
              "      --disabled-fill-color: #AAA;\n",
              "      --disabled-bg-color: #DDD;\n",
              "  }\n",
              "\n",
              "  [theme=dark] .colab-df-quickchart {\n",
              "      --bg-color: #3B4455;\n",
              "      --fill-color: #D2E3FC;\n",
              "      --hover-bg-color: #434B5C;\n",
              "      --hover-fill-color: #FFFFFF;\n",
              "      --disabled-bg-color: #3B4455;\n",
              "      --disabled-fill-color: #666;\n",
              "  }\n",
              "\n",
              "  .colab-df-quickchart {\n",
              "    background-color: var(--bg-color);\n",
              "    border: none;\n",
              "    border-radius: 50%;\n",
              "    cursor: pointer;\n",
              "    display: none;\n",
              "    fill: var(--fill-color);\n",
              "    height: 32px;\n",
              "    padding: 0;\n",
              "    width: 32px;\n",
              "  }\n",
              "\n",
              "  .colab-df-quickchart:hover {\n",
              "    background-color: var(--hover-bg-color);\n",
              "    box-shadow: 0 1px 2px rgba(60, 64, 67, 0.3), 0 1px 3px 1px rgba(60, 64, 67, 0.15);\n",
              "    fill: var(--button-hover-fill-color);\n",
              "  }\n",
              "\n",
              "  .colab-df-quickchart-complete:disabled,\n",
              "  .colab-df-quickchart-complete:disabled:hover {\n",
              "    background-color: var(--disabled-bg-color);\n",
              "    fill: var(--disabled-fill-color);\n",
              "    box-shadow: none;\n",
              "  }\n",
              "\n",
              "  .colab-df-spinner {\n",
              "    border: 2px solid var(--fill-color);\n",
              "    border-color: transparent;\n",
              "    border-bottom-color: var(--fill-color);\n",
              "    animation:\n",
              "      spin 1s steps(1) infinite;\n",
              "  }\n",
              "\n",
              "  @keyframes spin {\n",
              "    0% {\n",
              "      border-color: transparent;\n",
              "      border-bottom-color: var(--fill-color);\n",
              "      border-left-color: var(--fill-color);\n",
              "    }\n",
              "    20% {\n",
              "      border-color: transparent;\n",
              "      border-left-color: var(--fill-color);\n",
              "      border-top-color: var(--fill-color);\n",
              "    }\n",
              "    30% {\n",
              "      border-color: transparent;\n",
              "      border-left-color: var(--fill-color);\n",
              "      border-top-color: var(--fill-color);\n",
              "      border-right-color: var(--fill-color);\n",
              "    }\n",
              "    40% {\n",
              "      border-color: transparent;\n",
              "      border-right-color: var(--fill-color);\n",
              "      border-top-color: var(--fill-color);\n",
              "    }\n",
              "    60% {\n",
              "      border-color: transparent;\n",
              "      border-right-color: var(--fill-color);\n",
              "    }\n",
              "    80% {\n",
              "      border-color: transparent;\n",
              "      border-right-color: var(--fill-color);\n",
              "      border-bottom-color: var(--fill-color);\n",
              "    }\n",
              "    90% {\n",
              "      border-color: transparent;\n",
              "      border-bottom-color: var(--fill-color);\n",
              "    }\n",
              "  }\n",
              "</style>\n",
              "\n",
              "      <script>\n",
              "        async function quickchart(key) {\n",
              "          const quickchartButtonEl =\n",
              "            document.querySelector('#' + key + ' button');\n",
              "          quickchartButtonEl.disabled = true;  // To prevent multiple clicks.\n",
              "          quickchartButtonEl.classList.add('colab-df-spinner');\n",
              "          try {\n",
              "            const charts = await google.colab.kernel.invokeFunction(\n",
              "                'suggestCharts', [key], {});\n",
              "          } catch (error) {\n",
              "            console.error('Error during call to suggestCharts:', error);\n",
              "          }\n",
              "          quickchartButtonEl.classList.remove('colab-df-spinner');\n",
              "          quickchartButtonEl.classList.add('colab-df-quickchart-complete');\n",
              "        }\n",
              "        (() => {\n",
              "          let quickchartButtonEl =\n",
              "            document.querySelector('#df-b56b0d00-8e63-4c7b-8afc-b2b179ebad2e button');\n",
              "          quickchartButtonEl.style.display =\n",
              "            google.colab.kernel.accessAllowed ? 'block' : 'none';\n",
              "        })();\n",
              "      </script>\n",
              "    </div>\n",
              "\n",
              "    </div>\n",
              "  </div>\n"
            ],
            "application/vnd.google.colaboratory.intrinsic+json": {
              "type": "dataframe",
              "variable_name": "df",
              "summary": "{\n  \"name\": \"df\",\n  \"rows\": 822,\n  \"fields\": [\n    {\n      \"column\": \"Unnamed: 0\",\n      \"properties\": {\n        \"dtype\": \"number\",\n        \"std\": 237,\n        \"min\": 0,\n        \"max\": 821,\n        \"num_unique_values\": 822,\n        \"samples\": [\n          610,\n          174,\n          67\n        ],\n        \"semantic_type\": \"\",\n        \"description\": \"\"\n      }\n    },\n    {\n      \"column\": \"title\",\n      \"properties\": {\n        \"dtype\": \"string\",\n        \"num_unique_values\": 821,\n        \"samples\": [\n          \"Ramaphosa's ANC election win lifts South African banks\",\n          \" Did Mike Pence Use The Police To Illegally Suppress The Vote Of Tens Of Thousands Of Black People In Indiana?\",\n          \"president obama makes massive call for illegals to vote with no repercussions this is sickening\"\n        ],\n        \"semantic_type\": \"\",\n        \"description\": \"\"\n      }\n    },\n    {\n      \"column\": \"text\",\n      \"properties\": {\n        \"dtype\": \"string\",\n        \"num_unique_values\": 822,\n        \"samples\": [\n          \"Virginia s Voter ID law is being challenged in court and with the loss of a conservative majority on the Supreme Court, this might just be the first domino to fall, signaling the end of wide-spread voter suppression by Republicans:(Reuters)   A Virginia law requiring voters to show photo identification goes on trial in federal court on Monday, with Democratic officials claiming it is discriminatory and aimed at keeping party voters from casting ballots.Defenders of the 2013 Virginia law say that it is aimed at preventing voter fraud. The trial, in U.S. district court in Richmond, Virginia, is one of several voting rights legal battles in process as Democrats and Republicans square off ahead of November s presidential election.The Democratic Party of Virginia and two party activists are suing the Virginia State Board of Elections and want Judge Henry Hudson to strike down the law.The problem for the right is that the premise behind these laws has always been a lie. Republicans only became  concerned  with  voter fraud  when it became clear that their white hegemony was in immediate danger. Adding to this problem was the over-the-top way Republicans attacked people s ability to vote. If Voter ID had been a stand alone law, then Republicans MIGHT have been able to maintain the fiction that it was just about voter fraud. However, they also cut voting hours, the number of polling places (but only in Democratic-leaning areas), made the IDs difficult to get and, of course, kept bragging about how it would hurt the Democrats.And just to be absolutely clear that Voter ID laws are bullshit, here s my favorite quote from the New York Times (4/12/2007):Five years after the Bush administration began a crackdown on voter fraud, the Justice Department has turned up virtually no evidence of any organized effort to skew federal elections, according to court records and interviews.Although Republican activists have repeatedly said fraud is so widespread that it has corrupted the political process and, possibly, cost the party election victories, about 120 people have been charged and 86 convicted as of last year.Widespread voter fraud does not exist.The only way for a court to uphold Voter ID is to willfully turn a blind eye to the glaring pattern of voter suppression Republicans have openly laid out. If you re wondering why they were so brazen, it s because they were quite confidant that the Supreme Court would back their partisan attack on democracy. After all, they gutted the Voting Rights Act by claiming, in all seriousness, that racism in America was over and keeping (mostly southern) states from blocking minorities from voting wasn t necessary. Southern states immediately responded by passing laws blocking minorities from voting.Now that Republicans no longer have a friendly SCOTUS to allow their shenanigans, the number of lawsuits against Voter ID and the laundry list of voter suppression tactics is going to grow. According to Yahoo, Kansas and North Carolina s ID laws are also under fire. Not a great time to be a Republican Featured image via onewisconsinnow.org\",\n          \"Right in the middle of the nine thousand scandals swirling around Donald Trump comes one about his running mate, Mike Pence. As governor of Indiana, Pence oversaw everything from legalized discrimination to destroying the state s educational system, and there was even an attempt to destroy freedom of the press. Now, it s come out that he may have engaged in some voter suppression as well   particularly against Indiana s black voters.This is so much worse than the clearly fraudulent voter ID law. The Indiana State Police raided the offices of the Indiana Voter Registration Project (IVRP) in an alleged attempt to root out  voter fraud . IVRP didn t see it that way, and neither did advocacy groups. They saw it as a deliberate attempt to shut them down, slowing registration and nullifying thousands of registration applications for black people across the state. The whole  initiative,  if it can even be called that, started in nine counties, and then expanded to 56 counties shortly after this raid.The IVRP is based in Indianapolis, which has a higher black population than the rest of the state. Patriot Group USA, a progressive advocacy group, started running ads against Pence and the state after the raid. They and the IVRP say that more than 40,000 black Hoosiers may not be allowed to vote on Nov. 8.Besides that, employees were barred from filming the raid, and the police handcuffed a black employee and denied him his legal right to speak to an attorney.Black voters tend to vote Democratic, and almost every voter suppression tactics are aimed at harming Democratic voting. As longtime GOP consultant Carter Wrenn said, when he effectively threw his party and its suppression tactics to the wolves: Look, if African Americans voted overwhelmingly Republican, they would have kept early voting right where it was. He was speaking of North Carolina trying to end early voting, but this applies to most voter suppression tactics. Pence would know that   he s a conniving old white man who sees the black community as an electoral threat. If they can t register, they can t vote, and if they can t vote, his party is safer.It s so disgustingly simple it makes us want to put our fists through the walls.Of course, Pence s spokesperson called the allegations  false and absurd.  He said: In fact, the Indiana State Police has uncovered strong evidence of voter fraud by Patriot Majority USA. Among Governor Pence s top priorities is ensuring the integrity of the election and that every single Hoosier vote counts. He has full confidence in the Indiana State Police investigation to achieve this goal. Uh huh. Sure. The state police have found exactly ten irregularities so far, and they re mostly missing zip codes or other minor problems, according to Fusion. Ten, and those irregularities show anything but fraud.Pence ought to be ashamed of himself, but he s still Donald Trump s running mate so we all know he s incapable of shame.Featured image by Chip Somodevilla via Getty Images\",\n          \"breaking hillary just lost the black vote trump is going all the way to the white house hillary just lost the black vote to a black lives matter moms outrage and a pharmaceutical bros whims heres how \\nbrett macdonald  twitter  facebook  \\nnew york  today was not a great day for the clinton campaign recently leaked emails from within the clinton campaign have reached the ears of some prominent members of the black lives matter community  members whom the emails were about they are particularly upset about a series of emails that seems how to best use the victims of gun violence while making sure those victims were black understandably some of the members have taken to speaking out against her campaign now in a word theyre pissed \\nerica garner the daughter of controversial man who died after being put in chokehold by a new york officer has been one of the most vocal critics im troubled by the revelation that you and this campaign actually discussed using eric garner  why would you want to use my dad she tweeted \\nthat was way earlier today she hasnt stopped since if you vote for her clinton by default you are endorsing her and whatever she does remember her hiding being negrossic that supported the crime bill if you vote for her by default you are endorsing her and whatever she does remember her hiding being nergos that supported the crime bill \\n officialerica garner es_snipes october   \\nbut heres the real kicker i dont care what blm activists endorse hillary  they will continue more of the same they dont care about black lives and i got proof i dont care what blm activists endorse hillary  they will continue more of the same they dont care about black lives and i got proof \\n officialerica garner es_snipes october   \\nbut thats not the only setback the clinton campaign saw today martin shkreli the controversial pharmabro and toptier troll had a very alarming announcement for the music community if trump wins he will release his previously unheard music from the beatles nirvana and mot importantly to the black community wutang if trump wins my entire unreleased music collection including unheard nirvana beatles and of course wutang comes out for free \\n martin shkreli martinshkreli october   this article was written by brett macdonald if you enjoyed this story or did not hate mail can be left in the comments below and the author totally wont ignore it compliments or questions may be sent to  tweetbrettmac  on twitter vote for donald j trump together we will make america great again please like and share on facebook and twitter k shares\"\n        ],\n        \"semantic_type\": \"\",\n        \"description\": \"\"\n      }\n    },\n    {\n      \"column\": \"label\",\n      \"properties\": {\n        \"dtype\": \"number\",\n        \"std\": 0.5000140767538729,\n        \"min\": 0.0,\n        \"max\": 1.0,\n        \"num_unique_values\": 2,\n        \"samples\": [\n          0.0,\n          1.0\n        ],\n        \"semantic_type\": \"\",\n        \"description\": \"\"\n      }\n    }\n  ]\n}"
            }
          },
          "metadata": {},
          "execution_count": 14
        }
      ]
    },
    {
      "cell_type": "code",
      "source": [
        "messages.reset_index(inplace=True)"
      ],
      "metadata": {
        "id": "4wK0bMb98dO3"
      },
      "execution_count": 15,
      "outputs": []
    },
    {
      "cell_type": "code",
      "source": [
        "df['label'].value_counts()"
      ],
      "metadata": {
        "id": "pylOhJ6h70lE",
        "colab": {
          "base_uri": "https://localhost:8080/",
          "height": 178
        },
        "outputId": "95817a12-88f1-411e-92d0-a8d2e3764594"
      },
      "execution_count": 16,
      "outputs": [
        {
          "output_type": "execute_result",
          "data": {
            "text/plain": [
              "label\n",
              "1.0    425\n",
              "0.0    397\n",
              "Name: count, dtype: int64"
            ],
            "text/html": [
              "<div>\n",
              "<style scoped>\n",
              "    .dataframe tbody tr th:only-of-type {\n",
              "        vertical-align: middle;\n",
              "    }\n",
              "\n",
              "    .dataframe tbody tr th {\n",
              "        vertical-align: top;\n",
              "    }\n",
              "\n",
              "    .dataframe thead th {\n",
              "        text-align: right;\n",
              "    }\n",
              "</style>\n",
              "<table border=\"1\" class=\"dataframe\">\n",
              "  <thead>\n",
              "    <tr style=\"text-align: right;\">\n",
              "      <th></th>\n",
              "      <th>count</th>\n",
              "    </tr>\n",
              "    <tr>\n",
              "      <th>label</th>\n",
              "      <th></th>\n",
              "    </tr>\n",
              "  </thead>\n",
              "  <tbody>\n",
              "    <tr>\n",
              "      <th>1.0</th>\n",
              "      <td>425</td>\n",
              "    </tr>\n",
              "    <tr>\n",
              "      <th>0.0</th>\n",
              "      <td>397</td>\n",
              "    </tr>\n",
              "  </tbody>\n",
              "</table>\n",
              "</div><br><label><b>dtype:</b> int64</label>"
            ]
          },
          "metadata": {},
          "execution_count": 16
        }
      ]
    },
    {
      "cell_type": "code",
      "source": [
        "import nltk\n",
        "from nltk.corpus import stopwords\n",
        "nltk.download('stopwords')\n",
        "stop_words=stopwords.words('english')"
      ],
      "metadata": {
        "colab": {
          "base_uri": "https://localhost:8080/"
        },
        "id": "bNkO4O7s-Hvr",
        "outputId": "8bb2a1d4-3e2d-41cb-e038-bcb73140b9c1"
      },
      "execution_count": 17,
      "outputs": [
        {
          "output_type": "stream",
          "name": "stderr",
          "text": [
            "[nltk_data] Downloading package stopwords to /root/nltk_data...\n",
            "[nltk_data]   Unzipping corpora/stopwords.zip.\n"
          ]
        }
      ]
    },
    {
      "cell_type": "code",
      "source": [
        "from nltk.stem import PorterStemmer\n",
        "ps=PorterStemmer()\n",
        "import re\n",
        "corpus=[]\n",
        "for i in range(0,len(messages)):\n",
        "  review=re.sub('[^a-zA-Z]',' ',messages['title'][i])\n",
        "  review=review.lower().split()\n",
        "\n",
        "  review=[ps.stem(word) for word in review if word not in stop_words]\n",
        "  review=' '.join(review)\n",
        "  corpus.append(review)"
      ],
      "metadata": {
        "id": "6vmPhR2s9j_y"
      },
      "execution_count": 18,
      "outputs": []
    },
    {
      "cell_type": "markdown",
      "source": [],
      "metadata": {
        "id": "DJNWDn13-jsB"
      }
    },
    {
      "cell_type": "code",
      "source": [
        "voc_size=5000\n",
        "sent_length=30"
      ],
      "metadata": {
        "id": "ht8KvQI1ATfP"
      },
      "execution_count": 19,
      "outputs": []
    },
    {
      "cell_type": "code",
      "source": [
        "# one_hot_rep=[one_hot(word,voc_size) for word in corpus]\n",
        "# one_hot_rep\n",
        "from tensorflow.keras.preprocessing.text import Tokenizer\n",
        "tokenizer=Tokenizer(voc_size)\n",
        "tokenizer.fit_on_texts(corpus)\n",
        "sequences=tokenizer.texts_to_sequences(corpus)"
      ],
      "metadata": {
        "collapsed": true,
        "id": "q4Q4hW6sAW3G"
      },
      "execution_count": 252,
      "outputs": []
    },
    {
      "cell_type": "code",
      "source": [
        "embedded_docs=pad_sequences(sequences,padding='pre',maxlen=sent_length)\n",
        "embedded_docs"
      ],
      "metadata": {
        "colab": {
          "base_uri": "https://localhost:8080/"
        },
        "id": "dd7ZapbzA_q-",
        "outputId": "b7a7cc25-7b84-407e-8156-80076af26446"
      },
      "execution_count": 253,
      "outputs": [
        {
          "output_type": "execute_result",
          "data": {
            "text/plain": [
              "array([[   0,    0,    0, ..., 1176,  501,  502],\n",
              "       [   0,    0,    0, ...,  202,  503,  138],\n",
              "       [   0,    0,    0, ..., 1179, 1180,    2],\n",
              "       ...,\n",
              "       [   0,    0,    0, ...,    1,  404,    2],\n",
              "       [   0,    0,    0, ...,  267,  837,  106],\n",
              "       [   0,    0,    0, ...,  196,  559, 2621]], dtype=int32)"
            ]
          },
          "metadata": {},
          "execution_count": 253
        }
      ]
    },
    {
      "cell_type": "code",
      "source": [
        "dim=300\n",
        "model=Sequential()\n",
        "model.add(Embedding(voc_size,dim))\n",
        "model.build((None,sent_length))\n",
        "model.add(Dropout(0.3))\n",
        "model.add(Bidirectional(LSTM(155)))\n",
        "model.add(Dropout(0.3))\n",
        "model.add(Dense(128,activation='relu'))\n",
        "model.add(Dense(1,activation='sigmoid'))\n",
        "model.compile(loss='binary_crossentropy',optimizer='adam',metrics=['accuracy'])\n",
        "model.summary()"
      ],
      "metadata": {
        "colab": {
          "base_uri": "https://localhost:8080/",
          "height": 337
        },
        "id": "38bUemxnAjOz",
        "outputId": "5d5d8f12-2c6a-4dc1-e320-2a258e100c88"
      },
      "execution_count": 254,
      "outputs": [
        {
          "output_type": "display_data",
          "data": {
            "text/plain": [
              "\u001b[1mModel: \"sequential_17\"\u001b[0m\n"
            ],
            "text/html": [
              "<pre style=\"white-space:pre;overflow-x:auto;line-height:normal;font-family:Menlo,'DejaVu Sans Mono',consolas,'Courier New',monospace\"><span style=\"font-weight: bold\">Model: \"sequential_17\"</span>\n",
              "</pre>\n"
            ]
          },
          "metadata": {}
        },
        {
          "output_type": "display_data",
          "data": {
            "text/plain": [
              "┏━━━━━━━━━━━━━━━━━━━━━━━━━━━━━━━━━┳━━━━━━━━━━━━━━━━━━━━━━━━┳━━━━━━━━━━━━━━━┓\n",
              "┃\u001b[1m \u001b[0m\u001b[1mLayer (type)                   \u001b[0m\u001b[1m \u001b[0m┃\u001b[1m \u001b[0m\u001b[1mOutput Shape          \u001b[0m\u001b[1m \u001b[0m┃\u001b[1m \u001b[0m\u001b[1m      Param #\u001b[0m\u001b[1m \u001b[0m┃\n",
              "┡━━━━━━━━━━━━━━━━━━━━━━━━━━━━━━━━━╇━━━━━━━━━━━━━━━━━━━━━━━━╇━━━━━━━━━━━━━━━┩\n",
              "│ embedding_17 (\u001b[38;5;33mEmbedding\u001b[0m)        │ (\u001b[38;5;45mNone\u001b[0m, \u001b[38;5;34m30\u001b[0m, \u001b[38;5;34m300\u001b[0m)        │     \u001b[38;5;34m1,500,000\u001b[0m │\n",
              "├─────────────────────────────────┼────────────────────────┼───────────────┤\n",
              "│ dropout_23 (\u001b[38;5;33mDropout\u001b[0m)            │ (\u001b[38;5;45mNone\u001b[0m, \u001b[38;5;34m30\u001b[0m, \u001b[38;5;34m300\u001b[0m)        │             \u001b[38;5;34m0\u001b[0m │\n",
              "├─────────────────────────────────┼────────────────────────┼───────────────┤\n",
              "│ bidirectional_17                │ (\u001b[38;5;45mNone\u001b[0m, \u001b[38;5;34m310\u001b[0m)            │       \u001b[38;5;34m565,440\u001b[0m │\n",
              "│ (\u001b[38;5;33mBidirectional\u001b[0m)                 │                        │               │\n",
              "├─────────────────────────────────┼────────────────────────┼───────────────┤\n",
              "│ dropout_24 (\u001b[38;5;33mDropout\u001b[0m)            │ (\u001b[38;5;45mNone\u001b[0m, \u001b[38;5;34m310\u001b[0m)            │             \u001b[38;5;34m0\u001b[0m │\n",
              "├─────────────────────────────────┼────────────────────────┼───────────────┤\n",
              "│ dense_35 (\u001b[38;5;33mDense\u001b[0m)                │ (\u001b[38;5;45mNone\u001b[0m, \u001b[38;5;34m128\u001b[0m)            │        \u001b[38;5;34m39,808\u001b[0m │\n",
              "├─────────────────────────────────┼────────────────────────┼───────────────┤\n",
              "│ dense_36 (\u001b[38;5;33mDense\u001b[0m)                │ (\u001b[38;5;45mNone\u001b[0m, \u001b[38;5;34m1\u001b[0m)              │           \u001b[38;5;34m129\u001b[0m │\n",
              "└─────────────────────────────────┴────────────────────────┴───────────────┘\n"
            ],
            "text/html": [
              "<pre style=\"white-space:pre;overflow-x:auto;line-height:normal;font-family:Menlo,'DejaVu Sans Mono',consolas,'Courier New',monospace\">┏━━━━━━━━━━━━━━━━━━━━━━━━━━━━━━━━━┳━━━━━━━━━━━━━━━━━━━━━━━━┳━━━━━━━━━━━━━━━┓\n",
              "┃<span style=\"font-weight: bold\"> Layer (type)                    </span>┃<span style=\"font-weight: bold\"> Output Shape           </span>┃<span style=\"font-weight: bold\">       Param # </span>┃\n",
              "┡━━━━━━━━━━━━━━━━━━━━━━━━━━━━━━━━━╇━━━━━━━━━━━━━━━━━━━━━━━━╇━━━━━━━━━━━━━━━┩\n",
              "│ embedding_17 (<span style=\"color: #0087ff; text-decoration-color: #0087ff\">Embedding</span>)        │ (<span style=\"color: #00d7ff; text-decoration-color: #00d7ff\">None</span>, <span style=\"color: #00af00; text-decoration-color: #00af00\">30</span>, <span style=\"color: #00af00; text-decoration-color: #00af00\">300</span>)        │     <span style=\"color: #00af00; text-decoration-color: #00af00\">1,500,000</span> │\n",
              "├─────────────────────────────────┼────────────────────────┼───────────────┤\n",
              "│ dropout_23 (<span style=\"color: #0087ff; text-decoration-color: #0087ff\">Dropout</span>)            │ (<span style=\"color: #00d7ff; text-decoration-color: #00d7ff\">None</span>, <span style=\"color: #00af00; text-decoration-color: #00af00\">30</span>, <span style=\"color: #00af00; text-decoration-color: #00af00\">300</span>)        │             <span style=\"color: #00af00; text-decoration-color: #00af00\">0</span> │\n",
              "├─────────────────────────────────┼────────────────────────┼───────────────┤\n",
              "│ bidirectional_17                │ (<span style=\"color: #00d7ff; text-decoration-color: #00d7ff\">None</span>, <span style=\"color: #00af00; text-decoration-color: #00af00\">310</span>)            │       <span style=\"color: #00af00; text-decoration-color: #00af00\">565,440</span> │\n",
              "│ (<span style=\"color: #0087ff; text-decoration-color: #0087ff\">Bidirectional</span>)                 │                        │               │\n",
              "├─────────────────────────────────┼────────────────────────┼───────────────┤\n",
              "│ dropout_24 (<span style=\"color: #0087ff; text-decoration-color: #0087ff\">Dropout</span>)            │ (<span style=\"color: #00d7ff; text-decoration-color: #00d7ff\">None</span>, <span style=\"color: #00af00; text-decoration-color: #00af00\">310</span>)            │             <span style=\"color: #00af00; text-decoration-color: #00af00\">0</span> │\n",
              "├─────────────────────────────────┼────────────────────────┼───────────────┤\n",
              "│ dense_35 (<span style=\"color: #0087ff; text-decoration-color: #0087ff\">Dense</span>)                │ (<span style=\"color: #00d7ff; text-decoration-color: #00d7ff\">None</span>, <span style=\"color: #00af00; text-decoration-color: #00af00\">128</span>)            │        <span style=\"color: #00af00; text-decoration-color: #00af00\">39,808</span> │\n",
              "├─────────────────────────────────┼────────────────────────┼───────────────┤\n",
              "│ dense_36 (<span style=\"color: #0087ff; text-decoration-color: #0087ff\">Dense</span>)                │ (<span style=\"color: #00d7ff; text-decoration-color: #00d7ff\">None</span>, <span style=\"color: #00af00; text-decoration-color: #00af00\">1</span>)              │           <span style=\"color: #00af00; text-decoration-color: #00af00\">129</span> │\n",
              "└─────────────────────────────────┴────────────────────────┴───────────────┘\n",
              "</pre>\n"
            ]
          },
          "metadata": {}
        },
        {
          "output_type": "display_data",
          "data": {
            "text/plain": [
              "\u001b[1m Total params: \u001b[0m\u001b[38;5;34m2,105,377\u001b[0m (8.03 MB)\n"
            ],
            "text/html": [
              "<pre style=\"white-space:pre;overflow-x:auto;line-height:normal;font-family:Menlo,'DejaVu Sans Mono',consolas,'Courier New',monospace\"><span style=\"font-weight: bold\"> Total params: </span><span style=\"color: #00af00; text-decoration-color: #00af00\">2,105,377</span> (8.03 MB)\n",
              "</pre>\n"
            ]
          },
          "metadata": {}
        },
        {
          "output_type": "display_data",
          "data": {
            "text/plain": [
              "\u001b[1m Trainable params: \u001b[0m\u001b[38;5;34m2,105,377\u001b[0m (8.03 MB)\n"
            ],
            "text/html": [
              "<pre style=\"white-space:pre;overflow-x:auto;line-height:normal;font-family:Menlo,'DejaVu Sans Mono',consolas,'Courier New',monospace\"><span style=\"font-weight: bold\"> Trainable params: </span><span style=\"color: #00af00; text-decoration-color: #00af00\">2,105,377</span> (8.03 MB)\n",
              "</pre>\n"
            ]
          },
          "metadata": {}
        },
        {
          "output_type": "display_data",
          "data": {
            "text/plain": [
              "\u001b[1m Non-trainable params: \u001b[0m\u001b[38;5;34m0\u001b[0m (0.00 B)\n"
            ],
            "text/html": [
              "<pre style=\"white-space:pre;overflow-x:auto;line-height:normal;font-family:Menlo,'DejaVu Sans Mono',consolas,'Courier New',monospace\"><span style=\"font-weight: bold\"> Non-trainable params: </span><span style=\"color: #00af00; text-decoration-color: #00af00\">0</span> (0.00 B)\n",
              "</pre>\n"
            ]
          },
          "metadata": {}
        }
      ]
    },
    {
      "cell_type": "code",
      "source": [
        "import numpy as np\n",
        "y_final=np.array(y)\n",
        "x_final=np.array(embedded_docs)"
      ],
      "metadata": {
        "id": "Lx3bZKyKDAP9"
      },
      "execution_count": 255,
      "outputs": []
    },
    {
      "cell_type": "code",
      "source": [
        "print(y[:5])  # show some labels\n",
        "print(type(y))  # should be pandas.Series or list\n"
      ],
      "metadata": {
        "colab": {
          "base_uri": "https://localhost:8080/"
        },
        "id": "WDSZRcLgLTaH",
        "outputId": "6261a749-0153-4c22-cee2-6908748dc27c"
      },
      "execution_count": 256,
      "outputs": [
        {
          "output_type": "stream",
          "name": "stdout",
          "text": [
            "0    1.0\n",
            "1    1.0\n",
            "2    0.0\n",
            "3    0.0\n",
            "4    0.0\n",
            "Name: label, dtype: float64\n",
            "<class 'pandas.core.series.Series'>\n"
          ]
        }
      ]
    },
    {
      "cell_type": "code",
      "source": [
        "from sklearn.model_selection import train_test_split\n",
        "x_train,x_test,y_train,y_test=train_test_split(x_final,y_final,test_size=0.33,random_state=98)"
      ],
      "metadata": {
        "id": "Q0ITh0TzDow7"
      },
      "execution_count": 257,
      "outputs": []
    },
    {
      "cell_type": "code",
      "source": [
        "model.fit(x_train,y_train,validation_data=(x_test,y_test),epochs=10,batch_size=25)"
      ],
      "metadata": {
        "colab": {
          "base_uri": "https://localhost:8080/"
        },
        "id": "7dklADnOEDPh",
        "outputId": "e76ac127-b0c5-483b-d9c3-79134d79200a"
      },
      "execution_count": 258,
      "outputs": [
        {
          "output_type": "stream",
          "name": "stdout",
          "text": [
            "Epoch 1/10\n",
            "\u001b[1m22/22\u001b[0m \u001b[32m━━━━━━━━━━━━━━━━━━━━\u001b[0m\u001b[37m\u001b[0m \u001b[1m3s\u001b[0m 30ms/step - accuracy: 0.5035 - loss: 0.6871 - val_accuracy: 0.5037 - val_loss: 0.6554\n",
            "Epoch 2/10\n",
            "\u001b[1m22/22\u001b[0m \u001b[32m━━━━━━━━━━━━━━━━━━━━\u001b[0m\u001b[37m\u001b[0m \u001b[1m1s\u001b[0m 28ms/step - accuracy: 0.7832 - loss: 0.5355 - val_accuracy: 0.8603 - val_loss: 0.3206\n",
            "Epoch 3/10\n",
            "\u001b[1m22/22\u001b[0m \u001b[32m━━━━━━━━━━━━━━━━━━━━\u001b[0m\u001b[37m\u001b[0m \u001b[1m1s\u001b[0m 15ms/step - accuracy: 0.9758 - loss: 0.0891 - val_accuracy: 0.8750 - val_loss: 0.3362\n",
            "Epoch 4/10\n",
            "\u001b[1m22/22\u001b[0m \u001b[32m━━━━━━━━━━━━━━━━━━━━\u001b[0m\u001b[37m\u001b[0m \u001b[1m0s\u001b[0m 14ms/step - accuracy: 0.9818 - loss: 0.0427 - val_accuracy: 0.8529 - val_loss: 0.3945\n",
            "Epoch 5/10\n",
            "\u001b[1m22/22\u001b[0m \u001b[32m━━━━━━━━━━━━━━━━━━━━\u001b[0m\u001b[37m\u001b[0m \u001b[1m0s\u001b[0m 12ms/step - accuracy: 0.9982 - loss: 0.0087 - val_accuracy: 0.8566 - val_loss: 0.3686\n",
            "Epoch 6/10\n",
            "\u001b[1m22/22\u001b[0m \u001b[32m━━━━━━━━━━━━━━━━━━━━\u001b[0m\u001b[37m\u001b[0m \u001b[1m0s\u001b[0m 12ms/step - accuracy: 0.9976 - loss: 0.0036 - val_accuracy: 0.8566 - val_loss: 0.4013\n",
            "Epoch 7/10\n",
            "\u001b[1m22/22\u001b[0m \u001b[32m━━━━━━━━━━━━━━━━━━━━\u001b[0m\u001b[37m\u001b[0m \u001b[1m0s\u001b[0m 12ms/step - accuracy: 0.9982 - loss: 0.0031 - val_accuracy: 0.8676 - val_loss: 0.5257\n",
            "Epoch 8/10\n",
            "\u001b[1m22/22\u001b[0m \u001b[32m━━━━━━━━━━━━━━━━━━━━\u001b[0m\u001b[37m\u001b[0m \u001b[1m0s\u001b[0m 12ms/step - accuracy: 0.9998 - loss: 0.0011 - val_accuracy: 0.8603 - val_loss: 0.4294\n",
            "Epoch 9/10\n",
            "\u001b[1m22/22\u001b[0m \u001b[32m━━━━━━━━━━━━━━━━━━━━\u001b[0m\u001b[37m\u001b[0m \u001b[1m0s\u001b[0m 13ms/step - accuracy: 0.9943 - loss: 0.0124 - val_accuracy: 0.8603 - val_loss: 0.3706\n",
            "Epoch 10/10\n",
            "\u001b[1m22/22\u001b[0m \u001b[32m━━━━━━━━━━━━━━━━━━━━\u001b[0m\u001b[37m\u001b[0m \u001b[1m0s\u001b[0m 12ms/step - accuracy: 0.9943 - loss: 0.0117 - val_accuracy: 0.8603 - val_loss: 0.4059\n"
          ]
        },
        {
          "output_type": "execute_result",
          "data": {
            "text/plain": [
              "<keras.src.callbacks.history.History at 0x7953c5c6d950>"
            ]
          },
          "metadata": {},
          "execution_count": 258
        }
      ]
    },
    {
      "cell_type": "code",
      "source": [
        "print(\"Type of y_train:\", type(y_train))\n",
        "print(\"First 5 values:\", y_train[:5])\n",
        "print(\"Dtype:\", y_train.dtype)\n",
        "print(\"Unique values:\", np.unique(y_train))\n",
        "print(\"Is any string in y_train?\", any(isinstance(i, str) for i in y_train))\n",
        "print(\"Shape of y_train:\", y_train.shape)\n"
      ],
      "metadata": {
        "id": "pF6u8SuoKwrp",
        "colab": {
          "base_uri": "https://localhost:8080/"
        },
        "outputId": "542669dd-3a98-4c04-b14a-cb391f6dece3"
      },
      "execution_count": 259,
      "outputs": [
        {
          "output_type": "stream",
          "name": "stdout",
          "text": [
            "Type of y_train: <class 'numpy.ndarray'>\n",
            "First 5 values: [1. 0. 1. 1. 0.]\n",
            "Dtype: float64\n",
            "Unique values: [0. 1.]\n",
            "Is any string in y_train? False\n",
            "Shape of y_train: (550,)\n"
          ]
        }
      ]
    },
    {
      "cell_type": "code",
      "source": [
        "ans=model.predict(x_test)\n",
        "ans"
      ],
      "metadata": {
        "id": "b0lKiJeZEOYa",
        "colab": {
          "base_uri": "https://localhost:8080/"
        },
        "collapsed": true,
        "outputId": "ecc9403d-35ca-4bbd-d1e1-43a181b744ce"
      },
      "execution_count": 260,
      "outputs": [
        {
          "output_type": "stream",
          "name": "stdout",
          "text": [
            "\u001b[1m9/9\u001b[0m \u001b[32m━━━━━━━━━━━━━━━━━━━━\u001b[0m\u001b[37m\u001b[0m \u001b[1m0s\u001b[0m 27ms/step\n"
          ]
        },
        {
          "output_type": "execute_result",
          "data": {
            "text/plain": [
              "array([[1.08236093e-02],\n",
              "       [9.95853424e-01],\n",
              "       [9.99911427e-01],\n",
              "       [6.79338396e-01],\n",
              "       [5.82405337e-05],\n",
              "       [9.99883413e-01],\n",
              "       [2.92208761e-01],\n",
              "       [4.22983728e-02],\n",
              "       [4.50451080e-06],\n",
              "       [9.95761096e-01],\n",
              "       [1.33433554e-03],\n",
              "       [9.99775708e-01],\n",
              "       [4.66907412e-01],\n",
              "       [9.99157071e-01],\n",
              "       [9.99880195e-01],\n",
              "       [8.15124586e-02],\n",
              "       [5.24945222e-02],\n",
              "       [3.81197304e-01],\n",
              "       [3.74806393e-03],\n",
              "       [2.71366589e-05],\n",
              "       [9.99251783e-01],\n",
              "       [9.99927759e-01],\n",
              "       [9.59779620e-01],\n",
              "       [9.99223471e-01],\n",
              "       [4.73998844e-05],\n",
              "       [9.99950290e-01],\n",
              "       [2.76183710e-02],\n",
              "       [8.86115849e-01],\n",
              "       [9.99437153e-01],\n",
              "       [9.98703480e-01],\n",
              "       [9.98172879e-01],\n",
              "       [9.82601464e-01],\n",
              "       [2.24409729e-01],\n",
              "       [9.99014258e-01],\n",
              "       [5.05302683e-04],\n",
              "       [9.59975421e-01],\n",
              "       [5.25606215e-01],\n",
              "       [9.52149689e-01],\n",
              "       [3.02686152e-04],\n",
              "       [2.59788916e-03],\n",
              "       [9.66345787e-01],\n",
              "       [9.98319685e-01],\n",
              "       [9.93424296e-01],\n",
              "       [1.12806620e-05],\n",
              "       [9.98619556e-01],\n",
              "       [2.18586281e-01],\n",
              "       [1.02020241e-03],\n",
              "       [6.80758205e-07],\n",
              "       [4.62681390e-02],\n",
              "       [9.27526176e-01],\n",
              "       [2.10696599e-05],\n",
              "       [9.89300311e-01],\n",
              "       [4.18209856e-06],\n",
              "       [9.97987032e-01],\n",
              "       [2.71847606e-01],\n",
              "       [5.50606012e-01],\n",
              "       [9.74199176e-01],\n",
              "       [7.63723791e-01],\n",
              "       [9.99868751e-01],\n",
              "       [1.06216021e-05],\n",
              "       [5.89944921e-06],\n",
              "       [8.89782429e-01],\n",
              "       [9.96324301e-01],\n",
              "       [9.99970555e-01],\n",
              "       [9.99983311e-01],\n",
              "       [7.80805247e-04],\n",
              "       [2.43373574e-06],\n",
              "       [9.99809206e-01],\n",
              "       [7.11365195e-04],\n",
              "       [1.91826988e-02],\n",
              "       [9.95107889e-01],\n",
              "       [9.99919891e-01],\n",
              "       [6.69074943e-04],\n",
              "       [4.09244150e-01],\n",
              "       [2.55182013e-03],\n",
              "       [2.37664673e-03],\n",
              "       [9.33781862e-01],\n",
              "       [9.99992847e-01],\n",
              "       [4.05677378e-01],\n",
              "       [9.16358829e-01],\n",
              "       [1.24421604e-01],\n",
              "       [1.74806497e-04],\n",
              "       [1.22680500e-01],\n",
              "       [3.66988033e-01],\n",
              "       [6.73222588e-04],\n",
              "       [9.72226799e-01],\n",
              "       [9.99857068e-01],\n",
              "       [8.83010924e-01],\n",
              "       [7.86124289e-01],\n",
              "       [9.96030748e-01],\n",
              "       [8.63359834e-04],\n",
              "       [5.01455143e-02],\n",
              "       [5.29655218e-02],\n",
              "       [9.99571502e-01],\n",
              "       [9.73158836e-01],\n",
              "       [9.98587132e-01],\n",
              "       [9.40888047e-01],\n",
              "       [9.98879731e-01],\n",
              "       [9.99505758e-01],\n",
              "       [2.51500327e-02],\n",
              "       [9.70925391e-01],\n",
              "       [9.98802543e-01],\n",
              "       [2.45838281e-04],\n",
              "       [1.84981208e-02],\n",
              "       [5.29890554e-03],\n",
              "       [3.76179367e-01],\n",
              "       [9.83232677e-01],\n",
              "       [1.39409024e-03],\n",
              "       [9.98184383e-01],\n",
              "       [1.69083686e-03],\n",
              "       [9.91826177e-01],\n",
              "       [7.51919299e-02],\n",
              "       [9.98905182e-01],\n",
              "       [9.99897838e-01],\n",
              "       [9.98043060e-01],\n",
              "       [9.99720156e-01],\n",
              "       [9.01466701e-03],\n",
              "       [1.74716115e-03],\n",
              "       [9.99759853e-01],\n",
              "       [6.40492508e-05],\n",
              "       [8.99127219e-04],\n",
              "       [1.51942243e-06],\n",
              "       [2.80644366e-04],\n",
              "       [6.32062733e-01],\n",
              "       [9.97781575e-01],\n",
              "       [9.99992967e-01],\n",
              "       [8.83799970e-01],\n",
              "       [9.70857620e-01],\n",
              "       [9.67370868e-01],\n",
              "       [3.33750360e-02],\n",
              "       [9.99687076e-01],\n",
              "       [5.30123507e-05],\n",
              "       [2.30634078e-06],\n",
              "       [9.99848604e-01],\n",
              "       [1.85819939e-02],\n",
              "       [2.42398764e-05],\n",
              "       [9.88874555e-01],\n",
              "       [9.88989651e-01],\n",
              "       [2.21189454e-01],\n",
              "       [9.99952793e-01],\n",
              "       [9.95293438e-01],\n",
              "       [9.99594629e-01],\n",
              "       [9.97656345e-01],\n",
              "       [9.99996066e-01],\n",
              "       [9.70134914e-01],\n",
              "       [9.79802549e-01],\n",
              "       [9.98982608e-01],\n",
              "       [4.94833410e-01],\n",
              "       [8.43024987e-04],\n",
              "       [9.69302893e-01],\n",
              "       [9.82292175e-01],\n",
              "       [1.51443807e-03],\n",
              "       [9.99985456e-01],\n",
              "       [3.73850344e-04],\n",
              "       [9.39390123e-01],\n",
              "       [7.14369357e-01],\n",
              "       [7.10264430e-05],\n",
              "       [1.78870023e-03],\n",
              "       [1.13908216e-04],\n",
              "       [9.99287903e-01],\n",
              "       [8.91613638e-07],\n",
              "       [9.70129848e-01],\n",
              "       [2.23863822e-06],\n",
              "       [8.97655070e-01],\n",
              "       [1.63679421e-02],\n",
              "       [6.76253587e-02],\n",
              "       [1.83027342e-01],\n",
              "       [9.39672828e-01],\n",
              "       [4.19582501e-02],\n",
              "       [4.63302970e-01],\n",
              "       [2.05912814e-01],\n",
              "       [9.99603450e-01],\n",
              "       [8.65810202e-04],\n",
              "       [1.36600152e-01],\n",
              "       [2.06186451e-05],\n",
              "       [9.99072909e-01],\n",
              "       [7.71558189e-05],\n",
              "       [3.91876420e-05],\n",
              "       [5.50801903e-02],\n",
              "       [7.12443003e-03],\n",
              "       [9.84260261e-01],\n",
              "       [3.89278634e-03],\n",
              "       [9.99562323e-01],\n",
              "       [9.99908566e-01],\n",
              "       [1.66070284e-04],\n",
              "       [9.14901048e-02],\n",
              "       [5.48829317e-01],\n",
              "       [9.96758401e-01],\n",
              "       [2.24255957e-03],\n",
              "       [6.82926318e-03],\n",
              "       [5.45083592e-03],\n",
              "       [9.89454746e-01],\n",
              "       [9.99220610e-01],\n",
              "       [5.96256927e-03],\n",
              "       [9.94508088e-01],\n",
              "       [9.99638677e-01],\n",
              "       [5.58883330e-05],\n",
              "       [9.56838857e-03],\n",
              "       [9.46568668e-01],\n",
              "       [9.28866619e-04],\n",
              "       [9.62246418e-07],\n",
              "       [5.03445219e-04],\n",
              "       [9.99244213e-01],\n",
              "       [3.22491513e-04],\n",
              "       [3.56320292e-01],\n",
              "       [2.90845960e-01],\n",
              "       [9.94492769e-01],\n",
              "       [9.74090457e-01],\n",
              "       [2.09311536e-03],\n",
              "       [5.87033341e-04],\n",
              "       [9.99984980e-01],\n",
              "       [8.33258450e-01],\n",
              "       [9.98079181e-01],\n",
              "       [9.97336805e-01],\n",
              "       [3.41857910e-01],\n",
              "       [1.11803520e-05],\n",
              "       [4.68544786e-05],\n",
              "       [9.98164594e-01],\n",
              "       [9.99670863e-01],\n",
              "       [6.84731640e-04],\n",
              "       [9.99375880e-01],\n",
              "       [9.96256948e-01],\n",
              "       [9.82908881e-04],\n",
              "       [9.99490976e-01],\n",
              "       [9.98744249e-01],\n",
              "       [9.99529839e-01],\n",
              "       [9.99919772e-01],\n",
              "       [7.23616499e-03],\n",
              "       [9.05315101e-01],\n",
              "       [2.50897894e-04],\n",
              "       [1.77302770e-02],\n",
              "       [9.93370891e-01],\n",
              "       [3.98096949e-04],\n",
              "       [2.20023023e-04],\n",
              "       [9.99944329e-01],\n",
              "       [3.52639181e-05],\n",
              "       [9.70180869e-01],\n",
              "       [2.11567840e-05],\n",
              "       [6.08800650e-01],\n",
              "       [7.03911483e-01],\n",
              "       [8.82134497e-01],\n",
              "       [2.69346451e-03],\n",
              "       [9.99968886e-01],\n",
              "       [9.99771774e-01],\n",
              "       [6.34544471e-04],\n",
              "       [9.95255291e-01],\n",
              "       [2.60765105e-03],\n",
              "       [9.98756409e-01],\n",
              "       [9.99978900e-01],\n",
              "       [5.69014344e-03],\n",
              "       [2.14485292e-04],\n",
              "       [9.67943072e-01],\n",
              "       [9.72070754e-01],\n",
              "       [9.99986053e-01],\n",
              "       [9.99517441e-01],\n",
              "       [9.34067488e-01],\n",
              "       [2.72424072e-01],\n",
              "       [9.65268351e-04],\n",
              "       [7.30755739e-03],\n",
              "       [8.92538130e-01],\n",
              "       [4.22673523e-01],\n",
              "       [1.28672447e-03],\n",
              "       [5.95165284e-06],\n",
              "       [9.94895637e-01],\n",
              "       [8.42881575e-03],\n",
              "       [4.28255163e-02],\n",
              "       [9.98177409e-01],\n",
              "       [9.75730062e-01],\n",
              "       [2.40071586e-05],\n",
              "       [9.99968886e-01],\n",
              "       [9.87308443e-01],\n",
              "       [5.39914846e-01]], dtype=float32)"
            ]
          },
          "metadata": {},
          "execution_count": 260
        }
      ]
    },
    {
      "cell_type": "code",
      "source": [
        "ans=np.where(ans>0.5,1,0)"
      ],
      "metadata": {
        "id": "pt0NE2VJgJMW"
      },
      "execution_count": 261,
      "outputs": []
    },
    {
      "cell_type": "code",
      "source": [
        "from sklearn.metrics import accuracy_score,classification_report,confusion_matrix\n",
        "accuracy_score(y_test,ans)"
      ],
      "metadata": {
        "id": "k0NPs4aqgVD4",
        "colab": {
          "base_uri": "https://localhost:8080/"
        },
        "outputId": "94746f70-ad33-458b-bda5-ba629032fcbe"
      },
      "execution_count": 262,
      "outputs": [
        {
          "output_type": "execute_result",
          "data": {
            "text/plain": [
              "0.8602941176470589"
            ]
          },
          "metadata": {},
          "execution_count": 262
        }
      ]
    },
    {
      "cell_type": "code",
      "source": [
        "confusion_matrix(y_test,ans)"
      ],
      "metadata": {
        "id": "77h2Nq6Dgn8j",
        "colab": {
          "base_uri": "https://localhost:8080/"
        },
        "outputId": "e3f26216-8d50-4663-a471-d2b7e34e0870"
      },
      "execution_count": 263,
      "outputs": [
        {
          "output_type": "execute_result",
          "data": {
            "text/plain": [
              "array([[107,  15],\n",
              "       [ 23, 127]])"
            ]
          },
          "metadata": {},
          "execution_count": 263
        }
      ]
    },
    {
      "cell_type": "code",
      "source": [
        "print(classification_report(y_test,ans))"
      ],
      "metadata": {
        "id": "8ChHOvnOgyj5",
        "colab": {
          "base_uri": "https://localhost:8080/"
        },
        "outputId": "a7cda487-6e0a-49ca-a9c2-91be0d13f9c6"
      },
      "execution_count": 264,
      "outputs": [
        {
          "output_type": "stream",
          "name": "stdout",
          "text": [
            "              precision    recall  f1-score   support\n",
            "\n",
            "         0.0       0.82      0.88      0.85       122\n",
            "         1.0       0.89      0.85      0.87       150\n",
            "\n",
            "    accuracy                           0.86       272\n",
            "   macro avg       0.86      0.86      0.86       272\n",
            "weighted avg       0.86      0.86      0.86       272\n",
            "\n"
          ]
        }
      ]
    },
    {
      "cell_type": "code",
      "source": [],
      "metadata": {
        "id": "rw2Kbc05g04x"
      },
      "execution_count": 247,
      "outputs": []
    }
  ]
}